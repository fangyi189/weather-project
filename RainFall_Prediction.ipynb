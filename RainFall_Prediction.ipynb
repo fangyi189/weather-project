{
 "cells": [
  {
   "cell_type": "code",
   "execution_count": 2,
   "metadata": {},
   "outputs": [],
   "source": [
    "import pandas\n",
    "from sklearn.linear_model import LogisticRegression\n",
    "from sklearn.metrics import confusion_matrix\n",
    "from sklearn.model_selection import train_test_split\n",
    "import seaborn as sns\n",
    "import matplotlib.pyplot as plt\n",
    "\n",
    "# Schematics\n",
    "# 1. Read the data file\n",
    "# 2. Select specific columns only\n",
    "# 3. Rename column headers as required\n",
    "# 4. Replace values if required\n",
    "# 5. Apply algorithm and predict\n",
    "\n",
    "\n",
    "#\n",
    "\n",
    "# print('Accuracy of logistic regression classifier on test set: {:.2f}'.format(logistic.score(X_test, y_test)))\n",
    "#\n",
    "# # Display the plot\n"
   ]
  },
  {
   "cell_type": "code",
   "execution_count": 3,
   "metadata": {},
   "outputs": [
    {
     "data": {
      "text/html": [
       "<div>\n",
       "<style scoped>\n",
       "    .dataframe tbody tr th:only-of-type {\n",
       "        vertical-align: middle;\n",
       "    }\n",
       "\n",
       "    .dataframe tbody tr th {\n",
       "        vertical-align: top;\n",
       "    }\n",
       "\n",
       "    .dataframe thead th {\n",
       "        text-align: right;\n",
       "    }\n",
       "</style>\n",
       "<table border=\"1\" class=\"dataframe\">\n",
       "  <thead>\n",
       "    <tr style=\"text-align: right;\">\n",
       "      <th></th>\n",
       "      <th>WeatherType</th>\n",
       "    </tr>\n",
       "  </thead>\n",
       "  <tbody>\n",
       "    <tr>\n",
       "      <td>0</td>\n",
       "      <td>#NAME?</td>\n",
       "    </tr>\n",
       "    <tr>\n",
       "      <td>1</td>\n",
       "      <td></td>\n",
       "    </tr>\n",
       "    <tr>\n",
       "      <td>2</td>\n",
       "      <td></td>\n",
       "    </tr>\n",
       "    <tr>\n",
       "      <td>3</td>\n",
       "      <td></td>\n",
       "    </tr>\n",
       "    <tr>\n",
       "      <td>4</td>\n",
       "      <td></td>\n",
       "    </tr>\n",
       "    <tr>\n",
       "      <td>...</td>\n",
       "      <td>...</td>\n",
       "    </tr>\n",
       "    <tr>\n",
       "      <td>435</td>\n",
       "      <td></td>\n",
       "    </tr>\n",
       "    <tr>\n",
       "      <td>436</td>\n",
       "      <td></td>\n",
       "    </tr>\n",
       "    <tr>\n",
       "      <td>437</td>\n",
       "      <td></td>\n",
       "    </tr>\n",
       "    <tr>\n",
       "      <td>438</td>\n",
       "      <td></td>\n",
       "    </tr>\n",
       "    <tr>\n",
       "      <td>439</td>\n",
       "      <td></td>\n",
       "    </tr>\n",
       "  </tbody>\n",
       "</table>\n",
       "<p>440 rows × 1 columns</p>\n",
       "</div>"
      ],
      "text/plain": [
       "    WeatherType\n",
       "0        #NAME?\n",
       "1              \n",
       "2              \n",
       "3              \n",
       "4              \n",
       "..          ...\n",
       "435            \n",
       "436            \n",
       "437            \n",
       "438            \n",
       "439            \n",
       "\n",
       "[440 rows x 1 columns]"
      ]
     },
     "execution_count": 3,
     "metadata": {},
     "output_type": "execute_result"
    }
   ],
   "source": [
    "data = pandas.read_csv('Weather Dataset_Filtered.csv', header=0, usecols=[8])\n",
    "data"
   ]
  },
  {
   "cell_type": "code",
   "execution_count": 4,
   "metadata": {},
   "outputs": [
    {
     "name": "stdout",
     "output_type": "stream",
     "text": [
      "    WeatherType  DryBulbCelsius  RelativeHumidity\n",
      "0        #NAME?            24.4                90\n",
      "1                          24.4                85\n",
      "2                          24.4                85\n",
      "3                          24.4                82\n",
      "4                          24.4                82\n",
      "..          ...             ...               ...\n",
      "435                        26.1                69\n",
      "436                        25.6                71\n",
      "437                        25.6                74\n",
      "438                        25.6                74\n",
      "439                        25.6                71\n",
      "\n",
      "[440 rows x 3 columns]\n",
      "(440, 3)\n",
      "    isRain  temperature  humidity\n",
      "0       No         24.4        90\n",
      "1       No         24.4        85\n",
      "2       No         24.4        85\n",
      "3       No         24.4        82\n",
      "4       No         24.4        82\n",
      "..     ...          ...       ...\n",
      "435     No         26.1        69\n",
      "436     No         25.6        71\n",
      "437     No         25.6        74\n",
      "438     No         25.6        74\n",
      "439     No         25.6        71\n",
      "\n",
      "[440 rows x 3 columns]\n"
     ]
    }
   ],
   "source": [
    "# 1. Read data file\n",
    "data = pandas.read_csv('Weather Dataset_Filtered.csv', header=0, usecols=[8, 10, 15])\n",
    "data = data.dropna()\n",
    "print(data)\n",
    "# print(data.shape)\n",
    "# print(list(data.columns))\n",
    "# 2. Select specific columns only\n",
    "# data_cleansed = data[['WeatherType', 'DryBulbCelsius', 'RelativeHumidity']]\n",
    "data_cleansed = data\n",
    "# 3. Rename column headers as required\n",
    "data_cleansed.columns = ['isRain', 'temperature', 'humidity']\n",
    "# 4. Replace values if required\n",
    "pandas.options.mode.chained_assignment = None  # default='warn'\n",
    "data_cleansed['isRain'].replace(to_replace=r'^.*(RA|SN|DN|PL).*$', value=r'Yes', regex=True, inplace=True)\n",
    "data_cleansed['isRain'].replace(to_replace=r'^(?!.*Yes).*$', value=r'No', regex=True, inplace=True)\n",
    "print(data_cleansed.shape)\n",
    "print(data_cleansed)"
   ]
  },
  {
   "cell_type": "code",
   "execution_count": null,
   "metadata": {},
   "outputs": [],
   "source": []
  },
  {
   "cell_type": "code",
   "execution_count": 5,
   "metadata": {},
   "outputs": [
    {
     "name": "stdout",
     "output_type": "stream",
     "text": [
      "['No']\n"
     ]
    }
   ],
   "source": [
    "X_train, X_test, y_train, y_test = train_test_split(data_cleansed[['humidity']+['temperature']], data_cleansed[['isRain']], random_state=0, test_size=0.25)\n",
    "\n",
    "# sns.countplot(y=data_cleansed['isRain'], data=data_cleansed)\n",
    "# plt.show()\n",
    "\n",
    "\n",
    "logistic = LogisticRegression(solver='lbfgs')\n",
    "logistic.fit(X_train, y_train.values.ravel())\n",
    "predict = logistic.predict(X_test)\n",
    "# print(X_test)\n",
    "cm1 = confusion_matrix(y_test, predict)\n",
    "# print(cm1)\n",
    "print(logistic.predict([[24.4, 90]]))"
   ]
  },
  {
   "cell_type": "code",
   "execution_count": 6,
   "metadata": {},
   "outputs": [
    {
     "data": {
      "image/png": "[encoded data removed]",
      "text/plain": [
       "<Figure size 432x432 with 2 Axes>"
      ]
     },
     "metadata": {},
     "output_type": "display_data"
    }
   ],
   "source": [
    "plt.rc(\"font\", size=14)\n",
    "sns.set(style=\"white\")\n",
    "sns.set(style=\"whitegrid\", color_codes=True)\n",
    "plt.figure(figsize=(6, 6))\n",
    "sns.heatmap(cm1, annot=True, fmt=\".3f\", linewidths=.5, square = True, cmap = 'Blues_r')\n",
    "plt.ylabel('True label')\n",
    "plt.xlabel('Predicted label')\n",
    "plt.show()"
   ]
  },
  {
   "cell_type": "code",
   "execution_count": 9,
   "metadata": {},
   "outputs": [
    {
     "name": "stdout",
     "output_type": "stream",
     "text": [
      "    isRain\n",
      "14      No\n",
      "299     No\n",
      "356     No\n",
      "200     No\n",
      "220     No\n",
      "..     ...\n",
      "323     No\n",
      "192     No\n",
      "117     No\n",
      "47      No\n",
      "172     No\n",
      "\n",
      "[330 rows x 1 columns]\n"
     ]
    }
   ],
   "source": [
    "print(y_train)"
   ]
  },
  {
   "cell_type": "code",
   "execution_count": 13,
   "metadata": {},
   "outputs": [
    {
     "data": {
      "text/html": [
       "<div>\n",
       "<style scoped>\n",
       "    .dataframe tbody tr th:only-of-type {\n",
       "        vertical-align: middle;\n",
       "    }\n",
       "\n",
       "    .dataframe tbody tr th {\n",
       "        vertical-align: top;\n",
       "    }\n",
       "\n",
       "    .dataframe thead th {\n",
       "        text-align: right;\n",
       "    }\n",
       "</style>\n",
       "<table border=\"1\" class=\"dataframe\">\n",
       "  <thead>\n",
       "    <tr style=\"text-align: right;\">\n",
       "      <th></th>\n",
       "      <th>isRain</th>\n",
       "    </tr>\n",
       "  </thead>\n",
       "  <tbody>\n",
       "  </tbody>\n",
       "</table>\n",
       "</div>"
      ],
      "text/plain": [
       "Empty DataFrame\n",
       "Columns: [isRain]\n",
       "Index: []"
      ]
     },
     "execution_count": 13,
     "metadata": {},
     "output_type": "execute_result"
    }
   ],
   "source": [
    "y_train[y_train['isRain'] == 'YES']"
   ]
  },
  {
   "cell_type": "code",
   "execution_count": 14,
   "metadata": {},
   "outputs": [
    {
     "ename": "SyntaxError",
     "evalue": "invalid syntax (<ipython-input-14-e94c29125cc0>, line 1)",
     "output_type": "error",
     "traceback": [
      "\u001b[1;36m  File \u001b[1;32m\"<ipython-input-14-e94c29125cc0>\"\u001b[1;36m, line \u001b[1;32m1\u001b[0m\n\u001b[1;33m    git remote add origin https://github.com/fangyi189/weather-project.git\u001b[0m\n\u001b[1;37m             ^\u001b[0m\n\u001b[1;31mSyntaxError\u001b[0m\u001b[1;31m:\u001b[0m invalid syntax\n"
     ]
    }
   ],
   "source": []
  }
 ],
 "metadata": {
  "kernelspec": {
   "display_name": "Python 3",
   "language": "python",
   "name": "python3"
  },
  "language_info": {
   "codemirror_mode": {
    "name": "ipython",
    "version": 3
   },
   "file_extension": ".py",
   "mimetype": "text/x-python",
   "name": "python",
   "nbconvert_exporter": "python",
   "pygments_lexer": "ipython3",
   "version": "3.7.4"
  }
 },
 "nbformat": 4,
 "nbformat_minor": 2
}
